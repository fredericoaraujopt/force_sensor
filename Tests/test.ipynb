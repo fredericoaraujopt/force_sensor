{
 "cells": [
  {
   "cell_type": "code",
   "execution_count": 1,
   "metadata": {},
   "outputs": [],
   "source": [
    "import os\n",
    "from pathlib import Path\n",
    "package_path = Path(os.path.abspath(\"\")).parent\n",
    "data_path = package_path / \"Data\"\n",
    "\n",
    "experiment_1 = data_path / \"Experiment 1/Analog - 3-4-2025 5-32-43.074 PM.csv\" # epon 1st test \n",
    "experiment_2 = data_path / \"Experiment 2/Experiment_02.csv\" # epon ~5 sections: RL x RH x 500 nm x 250 nm x 0.08mm/s x 0.4mm/s\n",
    "experiment_6 = data_path / \"Experiment 6/Experiment_06.csv\" # experiment 2 w/ both sensors on MagC\n",
    "experiment_7 = data_path / \"Experiment 7/Experiment_07.csv\" # epon tissue 6 sections: shorter angle x wider angle\n",
    "experiment_8 = data_path / \"Experiment 8/Experiment_08.csv\" # epon tissue 5 sections: 0.08mm/s x 0.4mm/s x 1mm/s x 30 nm 250 nm x 500 nm\n",
    "experiment_9 = data_path / \"Experiment 9/20250309_1505/Analog - 3-9-2025 3-19-47.163 PM.csv\" # epon tissue 30 sections 250 nm 0.08mm/s\n",
    "experiment_10 = data_path / \"Experiment 10/20250309_1610/Analog - 3-9-2025 4-10-31.437 PM.csv\" # epon tissue 20 sections 500 nm 0.08mm/s\n",
    "experiment_11 = data_path / \"Experiment 11/20250309_1657/Analog - 3-9-2025 4-57-23.636 PM.csv\" # epon tissue 30 sections 250 nm 0.4 mm/s\n",
    "experiment_12 = data_path / \"Experiment 12/20250309_1733/Analog - 3-9-2025 5-33-01.430 PM.csv\" # epon tissue 30 sections 500 nm 0.4 mm/s\n",
    "experiment_13 = data_path / \"Experiment 13/20250309_1820/Analog - 3-9-2025 6-20-50.495 PM.csv\" # lx112 tissue 20 sections 250 nm 0.08mm/s\n",
    "experiment_14 = data_path / \"Experiment 14/20250309_2228/Analog - 3-9-2025 10-28-41.486 PM.csv\" \n",
    "experiment_15 = data_path / \"Experiment 15/20250309_2250/Analog - 3-9-2025 10-50-54.082 PM.csv\" \n",
    "experiment_16 = data_path / \"Experiment 16/20250309_2320/Analog - 3-9-2025 11-52-22.120 PM.csv\""
   ]
  },
  {
   "cell_type": "code",
   "execution_count": 3,
   "metadata": {},
   "outputs": [
    {
     "name": "stderr",
     "output_type": "stream",
     "text": [
      "2025-03-26 20:55:51.901 python[22954:8821552] +[IMKClient subclass]: chose IMKClient_Modern\n",
      "2025-03-26 20:55:51.901 python[22954:8821552] +[IMKInputSession subclass]: chose IMKInputSession_Modern\n"
     ]
    }
   ],
   "source": [
    "from plotting import plot_force_data \n",
    "data = plot_force_data(experiment_11, skiprows=6, frequency=1000, ignore_AI1=True)"
   ]
  },
  {
   "cell_type": "code",
   "execution_count": 2,
   "metadata": {},
   "outputs": [
    {
     "name": "stderr",
     "output_type": "stream",
     "text": [
      "2025-04-04 15:25:50.409 python[90960:13592520] +[IMKClient subclass]: chose IMKClient_Modern\n",
      "2025-04-04 15:25:50.409 python[90960:13592520] +[IMKInputSession subclass]: chose IMKInputSession_Modern\n",
      "2025-04-04 15:25:56.712 python[90960:13592520] The class 'NSSavePanel' overrides the method identifier.  This method is implemented by class 'NSWindow'\n"
     ]
    }
   ],
   "source": [
    "# EXPERIMENT 2: epon ~5 sections: RL x RH x 500 nm x 250 nm x 0.08mm/s x 0.4mm/s\n",
    "from plotting import split_and_plot\n",
    "snippets = split_and_plot(experiment_2, [83500, 132000, 452000, 680000, 985000, 1306000, 1366000], ignore_AI1=True)\n",
    "snippet1 = snippets[0]\n",
    "snippet2 = snippets[1]\n",
    "snippet3 = snippets[2]\n",
    "snippet4 = snippets[3]\n",
    "snippet5 = snippets[4]\n",
    "snippet6 = snippets[5]\n",
    "snippet7 = snippets[6]\n",
    "snippet8 = snippets[7]"
   ]
  },
  {
   "cell_type": "code",
   "execution_count": 4,
   "metadata": {},
   "outputs": [],
   "source": [
    "# EXPERIMENT 6: epon ~5 sections: RL x RH x 500 nm x 250 nm x 0.08mm/s x 0.4mm/s both sensors on MagC\n",
    "from plotting import split_and_plot\n",
    "snippets = split_and_plot(experiment_6, [131000, 145000, 240000, 486000, 800000, 1150000, 1830000, 1903000])\n",
    "snippet1 = snippets[0] # RL 0.4 mm/s 250 nm\n",
    "snippet2 = snippets[1] # artifact ignore\n",
    "snippet3 = snippets[2] # RH 0.4 mm/s 250 nm\n",
    "snippet4 = snippets[3] # RH 0.08 mm/s 250 nm\n",
    "snippet5 = snippets[4] # RL 0.08 mm/s 250 nm\n",
    "snippet6 = snippets[5] # RL 0.08 mm/s 500 nm\n",
    "snippet7 = snippets[6] # RH 0.08 mm/s 500 nm\n",
    "snippet8 = snippets[7] # RH 0.4 mm/s 500 nm\n",
    "snippet9 = snippets[8] # RL 0.4 mm/s 500 nm"
   ]
  },
  {
   "cell_type": "code",
   "execution_count": 3,
   "metadata": {},
   "outputs": [
    {
     "ename": "NameError",
     "evalue": "name 'snippet1' is not defined",
     "output_type": "error",
     "traceback": [
      "\u001b[31m---------------------------------------------------------------------------\u001b[39m",
      "\u001b[31mNameError\u001b[39m                                 Traceback (most recent call last)",
      "\u001b[36mCell\u001b[39m\u001b[36m \u001b[39m\u001b[32mIn[3]\u001b[39m\u001b[32m, line 2\u001b[39m\n\u001b[32m      1\u001b[39m \u001b[38;5;28;01mfrom\u001b[39;00m\u001b[38;5;250m \u001b[39m\u001b[34;01mplotting\u001b[39;00m\u001b[38;5;250m \u001b[39m\u001b[38;5;28;01mimport\u001b[39;00m plot_peaks \u001b[38;5;66;03m# distance should be inputted in seconds\u001b[39;00m\n\u001b[32m----> \u001b[39m\u001b[32m2\u001b[39m peaks1 = plot_peaks(\u001b[43msnippet1\u001b[49m, height=\u001b[32m0.018\u001b[39m, distance=\u001b[32m15\u001b[39m, label=\u001b[33m\"\u001b[39m\u001b[33mRL 0.4 mm/s 250 nm\u001b[39m\u001b[33m\"\u001b[39m)\n\u001b[32m      3\u001b[39m peaks2 = plot_peaks(snippet3, height=-\u001b[32m0.02\u001b[39m, distance=\u001b[32m15\u001b[39m, label=\u001b[33m\"\u001b[39m\u001b[33mRH 0.4 mm/s 250 nm\u001b[39m\u001b[33m\"\u001b[39m) \u001b[38;5;66;03m# width=5\u001b[39;00m\n\u001b[32m      4\u001b[39m peaks3 = plot_peaks(snippet8, height=\u001b[32m0.018\u001b[39m, distance=\u001b[32m15\u001b[39m, label=\u001b[33m\"\u001b[39m\u001b[33mRH 0.4 mm/s 500 nm\u001b[39m\u001b[33m\"\u001b[39m)\n",
      "\u001b[31mNameError\u001b[39m: name 'snippet1' is not defined"
     ]
    }
   ],
   "source": [
    "from plotting import plot_peaks # distance should be inputted in seconds\n",
    "peaks1 = plot_peaks(snippet1, height=0.018, distance=15, label=\"RL 0.4 mm/s 250 nm\")\n",
    "peaks2 = plot_peaks(snippet3, height=-0.02, distance=15, label=\"RH 0.4 mm/s 250 nm\") # width=5\n",
    "peaks3 = plot_peaks(snippet8, height=0.018, distance=15, label=\"RH 0.4 mm/s 500 nm\")\n",
    "peaks4 = plot_peaks(snippet9, height=0.018, distance=15, label=\"RL 0.4 mm/s 500 nm\")\n",
    "snippets = [snippet1, snippet2, snippet3, snippet4]\n",
    "peaks = [peaks1, peaks2, peaks3, peaks4]"
   ]
  },
  {
   "cell_type": "code",
   "execution_count": 5,
   "metadata": {},
   "outputs": [
    {
     "name": "stderr",
     "output_type": "stream",
     "text": [
      "2025-03-25 10:12:22.494 python[5450:7899918] +[IMKClient subclass]: chose IMKClient_Modern\n",
      "2025-03-25 10:12:22.494 python[5450:7899918] +[IMKInputSession subclass]: chose IMKInputSession_Modern\n"
     ]
    }
   ],
   "source": [
    "from ideal_peakfinder import plot_sharp_peaks # distance should be inputted in seconds\n",
    "peaks1 = plot_sharp_peaks(snippet1, derivative=True, frequency_domain=True, label=\"RL 0.4 mm/s 250 nm\")\n",
    "peaks2 = plot_sharp_peaks(snippet3, derivative=True, frequency_domain=True, label=\"RH 0.4 mm/s 250 nm\") # width=5\n",
    "peaks3 = plot_sharp_peaks(snippet8, derivative=True, frequency_domain=True, label=\"RH 0.4 mm/s 500 nm\")\n",
    "peaks4 = plot_sharp_peaks(snippet9, derivative=True, frequency_domain=True, label=\"RL 0.4 mm/s 500 nm\")\n",
    "snippets = [snippet1, snippet3, snippet8, snippet9]\n",
    "peaks = [peaks1, peaks2, peaks3, peaks4]"
   ]
  },
  {
   "cell_type": "code",
   "execution_count": 5,
   "metadata": {},
   "outputs": [
    {
     "data": {
      "text/plain": [
       "([          Sample                 Date/Time  AI0 (V)  AI1 (V)  Time (seconds)\n",
       "  1905041  1905041  3/6/2025 12:27:07.372 PM   -0.130    0.096        1905.041\n",
       "  1905042  1905042  3/6/2025 12:27:07.373 PM   -0.130    0.097        1905.042\n",
       "  1905043  1905043  3/6/2025 12:27:07.374 PM   -0.130    0.097        1905.043\n",
       "  1905044  1905044  3/6/2025 12:27:07.375 PM   -0.131    0.095        1905.044\n",
       "  1905045  1905045  3/6/2025 12:27:07.376 PM   -0.130    0.096        1905.045\n",
       "  ...          ...                       ...      ...      ...             ...\n",
       "  1922795  1922795  3/6/2025 12:27:25.126 PM   -0.131    0.087        1922.795\n",
       "  1922796  1922796  3/6/2025 12:27:25.127 PM   -0.131    0.089        1922.796\n",
       "  1922797  1922797  3/6/2025 12:27:25.128 PM   -0.131    0.089        1922.797\n",
       "  1922798  1922798  3/6/2025 12:27:25.129 PM   -0.130    0.090        1922.798\n",
       "  1922799  1922799  3/6/2025 12:27:25.130 PM   -0.129    0.092        1922.799\n",
       "  \n",
       "  [17759 rows x 5 columns],\n",
       "            Sample                 Date/Time  AI0 (V)  AI1 (V)  Time (seconds)\n",
       "  1922800  1922800  3/6/2025 12:27:25.131 PM   -0.129    0.092        1922.800\n",
       "  1922801  1922801  3/6/2025 12:27:25.132 PM   -0.130    0.087        1922.801\n",
       "  1922802  1922802  3/6/2025 12:27:25.133 PM   -0.133    0.089        1922.802\n",
       "  1922803  1922803  3/6/2025 12:27:25.134 PM   -0.130    0.088        1922.803\n",
       "  1922804  1922804  3/6/2025 12:27:25.135 PM   -0.128    0.089        1922.804\n",
       "  ...          ...                       ...      ...      ...             ...\n",
       "  1940662  1940662  3/6/2025 12:27:42.993 PM   -0.132    0.094        1940.662\n",
       "  1940663  1940663  3/6/2025 12:27:42.994 PM   -0.131    0.092        1940.663\n",
       "  1940664  1940664  3/6/2025 12:27:42.995 PM   -0.132    0.091        1940.664\n",
       "  1940665  1940665  3/6/2025 12:27:42.996 PM   -0.132    0.089        1940.665\n",
       "  1940666  1940666  3/6/2025 12:27:42.997 PM   -0.130    0.089        1940.666\n",
       "  \n",
       "  [17867 rows x 5 columns],\n",
       "            Sample                 Date/Time  AI0 (V)  AI1 (V)  Time (seconds)\n",
       "  1940667  1940667  3/6/2025 12:27:42.998 PM   -0.129    0.087        1940.667\n",
       "  1940668  1940668  3/6/2025 12:27:42.999 PM   -0.133    0.090        1940.668\n",
       "  1940669  1940669  3/6/2025 12:27:43.000 PM   -0.131    0.090        1940.669\n",
       "  1940670  1940670  3/6/2025 12:27:43.001 PM   -0.130    0.092        1940.670\n",
       "  1940671  1940671  3/6/2025 12:27:43.002 PM   -0.130    0.093        1940.671\n",
       "  ...          ...                       ...      ...      ...             ...\n",
       "  1958483  1958483  3/6/2025 12:28:00.814 PM   -0.135    0.089        1958.483\n",
       "  1958484  1958484  3/6/2025 12:28:00.815 PM   -0.138    0.091        1958.484\n",
       "  1958485  1958485  3/6/2025 12:28:00.816 PM   -0.134    0.092        1958.485\n",
       "  1958486  1958486  3/6/2025 12:28:00.817 PM   -0.133    0.092        1958.486\n",
       "  1958487  1958487  3/6/2025 12:28:00.818 PM   -0.135    0.092        1958.487\n",
       "  \n",
       "  [17821 rows x 5 columns],\n",
       "            Sample                 Date/Time  AI0 (V)  AI1 (V)  Time (seconds)\n",
       "  1958488  1958488  3/6/2025 12:28:00.819 PM   -0.133    0.091        1958.488\n",
       "  1958489  1958489  3/6/2025 12:28:00.820 PM   -0.133    0.091        1958.489\n",
       "  1958490  1958490  3/6/2025 12:28:00.821 PM   -0.134    0.092        1958.490\n",
       "  1958491  1958491  3/6/2025 12:28:00.822 PM   -0.133    0.091        1958.491\n",
       "  1958492  1958492  3/6/2025 12:28:00.823 PM   -0.132    0.091        1958.492\n",
       "  ...          ...                       ...      ...      ...             ...\n",
       "  1976389  1976389  3/6/2025 12:28:18.720 PM   -0.128    0.091        1976.389\n",
       "  1976390  1976390  3/6/2025 12:28:18.721 PM   -0.127    0.091        1976.390\n",
       "  1976391  1976391  3/6/2025 12:28:18.722 PM   -0.127    0.092        1976.391\n",
       "  1976392  1976392  3/6/2025 12:28:18.723 PM   -0.126    0.090        1976.392\n",
       "  1976393  1976393  3/6/2025 12:28:18.724 PM   -0.126    0.089        1976.393\n",
       "  \n",
       "  [17906 rows x 5 columns],\n",
       "            Sample                 Date/Time  AI0 (V)  AI1 (V)  Time (seconds)\n",
       "  1976394  1976394  3/6/2025 12:28:18.725 PM   -0.132    0.084        1976.394\n",
       "  1976395  1976395  3/6/2025 12:28:18.726 PM   -0.126    0.090        1976.395\n",
       "  1976396  1976396  3/6/2025 12:28:18.727 PM   -0.125    0.090        1976.396\n",
       "  1976397  1976397  3/6/2025 12:28:18.728 PM   -0.124    0.088        1976.397\n",
       "  1976398  1976398  3/6/2025 12:28:18.729 PM   -0.126    0.088        1976.398\n",
       "  ...          ...                       ...      ...      ...             ...\n",
       "  1999995  1999995  3/6/2025 12:28:42.326 PM   -0.010   -0.053        1999.995\n",
       "  1999996  1999996  3/6/2025 12:28:42.327 PM   -0.016   -0.062        1999.996\n",
       "  1999997  1999997  3/6/2025 12:28:42.328 PM   -0.013   -0.053        1999.997\n",
       "  1999998  1999998  3/6/2025 12:28:42.329 PM   -0.014   -0.053        1999.998\n",
       "  1999999  1999999  3/6/2025 12:28:42.330 PM   -0.012   -0.053        1999.999\n",
       "  \n",
       "  [23606 rows x 5 columns]],\n",
       " array([-0.1306    , -0.13039999, -0.13059999, ..., -0.1066    ,\n",
       "        -0.1068    , -0.1064    ], shape=(23606,)))"
      ]
     },
     "execution_count": 5,
     "metadata": {},
     "output_type": "execute_result"
    }
   ],
   "source": [
    "from plotting import plot_peaks_overlay\n",
    "labels = ['RL 0.4 mm/s 250 nm', 'RH 0.4 mm/s 250 nm', 'RH 0.4 mm/s 500 nm','RL 0.4 mm/s 500 nm']\n",
    "plot_peaks_overlay(snippets, peaks, labels=labels)"
   ]
  },
  {
   "cell_type": "code",
   "execution_count": null,
   "metadata": {},
   "outputs": [],
   "source": [
    "from file_editing import concatenate_csv\n",
    "csv_file1 = \"/Users/fredericoaraujo/Documents/force_sensor/Data/Experiment 2/Analog - 3-5-2025 10-09-08.238 AM.csv\"\n",
    "csv_file2 = \"/Users/fredericoaraujo/Documents/force_sensor/Data/Experiment 2/Analog - 3-5-2025 10-40-29.638 AM.csv\"\n",
    "concatenate_csv(csv_file1, csv_file2, data_path / \"Experiment 2/Experiment_02.csv\")"
   ]
  },
  {
   "cell_type": "code",
   "execution_count": 4,
   "metadata": {},
   "outputs": [],
   "source": [
    "import numpy as np\n",
    "import matplotlib.pyplot as plt\n",
    "from scipy.signal import find_peaks\n",
    "\n",
    "# Simulated force data with peaks\n",
    "x = np.linspace(0, 10, 1000)\n",
    "y = np.sin(2 * np.pi * x) + 0.3 * np.random.randn(1000)  # Add noise\n",
    "\n",
    "# Find peaks with prominence calculation\n",
    "peaks, properties = find_peaks(y, prominence=0.5)  # Set prominence threshold\n",
    "\n",
    "# Plot signal\n",
    "plt.figure(figsize=(10, 5))\n",
    "plt.plot(x, y, label=\"Signal\")\n",
    "plt.plot(x[peaks], y[peaks], \"x\", label=\"Peaks\", color=\"red\")\n",
    "\n",
    "# Visualizing Prominence\n",
    "for i, peak in enumerate(peaks):\n",
    "    peak_height = y[peak]\n",
    "    prominence = properties[\"prominences\"][i]\n",
    "    base_height = peak_height - prominence  # Compute base level\n",
    "\n",
    "    plt.vlines(x[peak], base_height, peak_height, color='orange', linestyle=\"dashed\", label=\"Prominence\" if i == 0 else \"\")\n",
    "\n",
    "plt.legend()\n",
    "plt.title(\"Peak Detection with Prominence Visualization\")\n",
    "plt.xlabel(\"Time\")\n",
    "plt.ylabel(\"Signal Value\")\n",
    "plt.grid()\n",
    "plt.show()"
   ]
  },
  {
   "cell_type": "code",
   "execution_count": null,
   "metadata": {},
   "outputs": [],
   "source": [
    "from plotting import plot_sharp_peaks, plot_peaks_overlay\n",
    "\n",
    "# Assume `snippets` is a list of segmented force sensor dataframes obtained from `split_and_plot`\n",
    "snippets = split_and_plot('force_sensor_data.csv', x_inputs=[10000, 50000, 90000])\n",
    "\n",
    "# Detect peaks using `plot_sharp_peaks` for each snippet\n",
    "peaks_list = [plot_sharp_peaks(snippet, derivative=True, frequency_domain=True) for snippet in snippets]\n",
    "\n",
    "# Overlay and visualize extracted cutting cycle segments\n",
    "labels = [\"Snippet 1\", \"Snippet 2\", \"Snippet 3\"]\n",
    "fragments, avg_fragment = plot_peaks_overlay(snippets, peak_output=peaks_list, labels=labels)"
   ]
  }
 ],
 "metadata": {
  "kernelspec": {
   "display_name": "force_sensor",
   "language": "python",
   "name": "python3"
  },
  "language_info": {
   "codemirror_mode": {
    "name": "ipython",
    "version": 3
   },
   "file_extension": ".py",
   "mimetype": "text/x-python",
   "name": "python",
   "nbconvert_exporter": "python",
   "pygments_lexer": "ipython3",
   "version": "3.13.2"
  }
 },
 "nbformat": 4,
 "nbformat_minor": 2
}
